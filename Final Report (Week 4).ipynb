{
 "cells": [
  {
   "cell_type": "markdown",
   "metadata": {},
   "source": [
    "<h1> Final Project"
   ]
  },
  {
   "cell_type": "markdown",
   "metadata": {},
   "source": [
    "<h2>Introduction/Business Problem"
   ]
  },
  {
   "cell_type": "markdown",
   "metadata": {},
   "source": [
    "For this project a business is looking for a suitable location to put their new gym business. They are going to build the new gym in the scarbrough area but need to find which part of scarbrough they wish to put it in. "
   ]
  },
  {
   "cell_type": "markdown",
   "metadata": {},
   "source": [
    "To do this the foursquare API will be used to find the most common venues in each area. These will then be used to rule out areas which already have a large number of gyms.\n",
    "Venues which would reduce the need for a gym will also be considered and any area which has one of the following as their most common venues will be excluded from the final list\n",
    "<li> Park\n",
    "<li> Yoga Studio\n",
    "<li> Field"
   ]
  },
  {
   "cell_type": "markdown",
   "metadata": {},
   "source": [
    "After the most common venues have been considered the remaining list will be compared to see which has the largest population and therefore the largest target market for the new gym"
   ]
  },
  {
   "cell_type": "markdown",
   "metadata": {},
   "source": [
    "To help aid the business, clustering will also be used to section areas off and to give the business a better idea of the area"
   ]
  },
  {
   "cell_type": "markdown",
   "metadata": {},
   "source": [
    "<h2> Data"
   ]
  },
  {
   "cell_type": "markdown",
   "metadata": {},
   "source": [
    "For the basic data of each area of toronto the data was retrieved from this wikipedia page: https://en.wikipedia.org/wiki/List_of_postal_codes_of_Canada:_M]\n",
    "\n",
    "This data included\n",
    "<li> Postal Code\n",
    "<li> Neighbourhood\n",
    "<li> Borough"
   ]
  },
  {
   "cell_type": "markdown",
   "metadata": {},
   "source": [
    "Data on each district and borough needed to be collected. This was done using the foursquare API."
   ]
  },
  {
   "cell_type": "markdown",
   "metadata": {},
   "source": [
    "The specific data for each area that was collected using the foursquare API was as follows.\n",
    "<li> Neighborhood\n",
    "<li> Neighborhood Latitude\n",
    "<li> Neighborhood Longitude\n",
    "<li> Venue\n",
    "<li> Name of the venue e.g. the name of a store or restaurant\n",
    "<li> Venue Latitude\n",
    "<li> Venue Longitude\n",
    "<li> Venue Category"
   ]
  },
  {
   "cell_type": "markdown",
   "metadata": {},
   "source": [
    "For the population of each area in scarborough, toronto the following wikipedia page was used: https://en.wikipedia.org/wiki/Demographics_of_Toronto_neighbourhoods"
   ]
  },
  {
   "cell_type": "code",
   "execution_count": null,
   "metadata": {},
   "outputs": [],
   "source": []
  }
 ],
 "metadata": {
  "kernelspec": {
   "display_name": "Python 3",
   "language": "python",
   "name": "python3"
  },
  "language_info": {
   "codemirror_mode": {
    "name": "ipython",
    "version": 3
   },
   "file_extension": ".py",
   "mimetype": "text/x-python",
   "name": "python",
   "nbconvert_exporter": "python",
   "pygments_lexer": "ipython3",
   "version": "3.8.3"
  }
 },
 "nbformat": 4,
 "nbformat_minor": 4
}
